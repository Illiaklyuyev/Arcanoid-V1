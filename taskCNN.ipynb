{
  "nbformat": 4,
  "nbformat_minor": 0,
  "metadata": {
    "colab": {
      "provenance": [],
      "gpuType": "T4",
      "include_colab_link": true
    },
    "kernelspec": {
      "name": "python3",
      "display_name": "Python 3"
    },
    "language_info": {
      "name": "python"
    },
    "accelerator": "GPU"
  },
  "cells": [
    {
      "cell_type": "markdown",
      "metadata": {
        "id": "view-in-github",
        "colab_type": "text"
      },
      "source": [
        "<a href=\"https://colab.research.google.com/github/Illiaklyuyev/Arcanoid-V1/blob/main/taskCNN.ipynb\" target=\"_parent\"><img src=\"https://colab.research.google.com/assets/colab-badge.svg\" alt=\"Open In Colab\"/></a>"
      ]
    },
    {
      "cell_type": "code",
      "execution_count": 9,
      "metadata": {
        "id": "FPL-6CHo5VtK"
      },
      "outputs": [],
      "source": [
        "import torch"
      ]
    },
    {
      "cell_type": "code",
      "source": [
        "# Device configuration\n",
        "device = torch.device('cuda' if torch.cuda.is_available() else 'cpu')\n",
        "device"
      ],
      "metadata": {
        "colab": {
          "base_uri": "https://localhost:8080/"
        },
        "id": "VtAQMS546bgn",
        "outputId": "3f18e1ae-6910-4324-c2a6-24a4e3fe4b0a"
      },
      "execution_count": 10,
      "outputs": [
        {
          "output_type": "execute_result",
          "data": {
            "text/plain": [
              "device(type='cuda')"
            ]
          },
          "metadata": {},
          "execution_count": 10
        }
      ]
    },
    {
      "cell_type": "code",
      "source": [
        "from torchvision import datasets\n",
        "from torchvision.transforms import ToTensor\n",
        "train_data = datasets.MNIST(\n",
        "    root = 'data',\n",
        "    train = True,\n",
        "    transform = ToTensor(),\n",
        "    download = True,\n",
        ")\n",
        "test_data = datasets.MNIST(\n",
        "    root = 'data',\n",
        "    train = False,\n",
        "    transform = ToTensor()\n",
        ")"
      ],
      "metadata": {
        "colab": {
          "base_uri": "https://localhost:8080/"
        },
        "id": "GmKz47Nu63jo",
        "outputId": "88824731-2b21-4b89-ff8c-c888572227d4"
      },
      "execution_count": 11,
      "outputs": [
        {
          "output_type": "stream",
          "name": "stdout",
          "text": [
            "Downloading http://yann.lecun.com/exdb/mnist/train-images-idx3-ubyte.gz\n",
            "Downloading http://yann.lecun.com/exdb/mnist/train-images-idx3-ubyte.gz to data/MNIST/raw/train-images-idx3-ubyte.gz\n"
          ]
        },
        {
          "output_type": "stream",
          "name": "stderr",
          "text": [
            "100%|██████████| 9912422/9912422 [00:00<00:00, 35639857.36it/s]\n"
          ]
        },
        {
          "output_type": "stream",
          "name": "stdout",
          "text": [
            "Extracting data/MNIST/raw/train-images-idx3-ubyte.gz to data/MNIST/raw\n",
            "\n",
            "Downloading http://yann.lecun.com/exdb/mnist/train-labels-idx1-ubyte.gz\n",
            "Downloading http://yann.lecun.com/exdb/mnist/train-labels-idx1-ubyte.gz to data/MNIST/raw/train-labels-idx1-ubyte.gz\n"
          ]
        },
        {
          "output_type": "stream",
          "name": "stderr",
          "text": [
            "100%|██████████| 28881/28881 [00:00<00:00, 71214399.66it/s]\n"
          ]
        },
        {
          "output_type": "stream",
          "name": "stdout",
          "text": [
            "Extracting data/MNIST/raw/train-labels-idx1-ubyte.gz to data/MNIST/raw\n",
            "\n",
            "Downloading http://yann.lecun.com/exdb/mnist/t10k-images-idx3-ubyte.gz\n",
            "Downloading http://yann.lecun.com/exdb/mnist/t10k-images-idx3-ubyte.gz to data/MNIST/raw/t10k-images-idx3-ubyte.gz\n"
          ]
        },
        {
          "output_type": "stream",
          "name": "stderr",
          "text": [
            "100%|██████████| 1648877/1648877 [00:00<00:00, 29809234.27it/s]\n"
          ]
        },
        {
          "output_type": "stream",
          "name": "stdout",
          "text": [
            "Extracting data/MNIST/raw/t10k-images-idx3-ubyte.gz to data/MNIST/raw\n",
            "\n",
            "Downloading http://yann.lecun.com/exdb/mnist/t10k-labels-idx1-ubyte.gz\n",
            "Downloading http://yann.lecun.com/exdb/mnist/t10k-labels-idx1-ubyte.gz to data/MNIST/raw/t10k-labels-idx1-ubyte.gz\n"
          ]
        },
        {
          "output_type": "stream",
          "name": "stderr",
          "text": [
            "100%|██████████| 4542/4542 [00:00<00:00, 1300199.89it/s]\n"
          ]
        },
        {
          "output_type": "stream",
          "name": "stdout",
          "text": [
            "Extracting data/MNIST/raw/t10k-labels-idx1-ubyte.gz to data/MNIST/raw\n",
            "\n"
          ]
        }
      ]
    },
    {
      "cell_type": "code",
      "source": [
        "import pandas as pd\n",
        "import numpy as np\n",
        "from torch.utils.data import TensorDataset, DataLoader\n",
        "\n",
        "def open_from_csv(file_name):\n",
        "    train_data = pd.read_csv(file_name, header=None)\n",
        "\n",
        "    Y_data = np.array(train_data.iloc[:, 0])\n",
        "    X_data = np.array(train_data.loc[:, 1:]).reshape(-1,1,28,28)\n",
        "\n",
        "    tensor_x = torch.from_numpy(X_data).float()\n",
        "    tensor_y = torch.from_numpy(Y_data)\n",
        "\n",
        "    return TensorDataset(tensor_x, tensor_y)\n",
        "\n",
        "train_data = open_from_csv('/content/mnist_train.csv')\n",
        "test_data = open_from_csv('/content/mnist_test.csv')"
      ],
      "metadata": {
        "id": "DTo3Cpf-FlXz"
      },
      "execution_count": 12,
      "outputs": []
    },
    {
      "cell_type": "code",
      "source": [
        "print(train_data)"
      ],
      "metadata": {
        "colab": {
          "base_uri": "https://localhost:8080/"
        },
        "id": "78Nqra8Y67YV",
        "outputId": "b67240d9-a1c9-49d2-9433-3c889def8488"
      },
      "execution_count": 19,
      "outputs": [
        {
          "output_type": "stream",
          "name": "stdout",
          "text": [
            "<torch.utils.data.dataset.TensorDataset object at 0x7a15dec80bb0>\n"
          ]
        }
      ]
    },
    {
      "cell_type": "code",
      "source": [
        "# print(train_data.data.size())"
      ],
      "metadata": {
        "id": "U9cO6zOw7DLr"
      },
      "execution_count": null,
      "outputs": []
    },
    {
      "cell_type": "code",
      "source": [
        "# print(train_data.targets.size())"
      ],
      "metadata": {
        "id": "Zv8ejC-z7GFo"
      },
      "execution_count": 4,
      "outputs": []
    },
    {
      "cell_type": "code",
      "source": [
        "# import matplotlib.pyplot as plt\n",
        "# plt.imshow(train_data.data[0], cmap='gray')\n",
        "# plt.title('%i' % train_data.targets[0])\n",
        "# plt.show()"
      ],
      "metadata": {
        "id": "blDDc4kr7JmM"
      },
      "execution_count": 5,
      "outputs": []
    },
    {
      "cell_type": "code",
      "source": [
        "figure = plt.figure(figsize=(10, 8))\n",
        "cols, rows = 5, 5\n",
        "for i in range(1, cols * rows + 1):\n",
        "    sample_idx = torch.randint(len(train_data), size=(1,)).item()\n",
        "    img, label = train_data[sample_idx]\n",
        "    figure.add_subplot(rows, cols, i)\n",
        "    plt.title(label)\n",
        "    plt.axis(\"off\")\n",
        "    plt.imshow(img.squeeze(), cmap=\"gray\")\n",
        "plt.show()"
      ],
      "metadata": {
        "colab": {
          "base_uri": "https://localhost:8080/",
          "height": 675
        },
        "id": "god4TLBZ7JuI",
        "outputId": "ea5fa51e-49c1-46d3-b983-aee2fd8197f1"
      },
      "execution_count": 23,
      "outputs": [
        {
          "output_type": "display_data",
          "data": {
            "text/plain": [
              "<Figure size 1000x800 with 25 Axes>"
            ],
            "image/png": "[encoded data removed]"
          },
          "metadata": {}
        }
      ]
    },
    {
      "cell_type": "code",
      "source": [
        "import matplotlib.pyplot as plt"
      ],
      "metadata": {
        "id": "hMEwn1IMPEXn"
      },
      "execution_count": 24,
      "outputs": []
    },
    {
      "cell_type": "code",
      "source": [
        "from torch.utils.data import DataLoader\n",
        "loaders = {\n",
        "    'train' : torch.utils.data.DataLoader(train_data,\n",
        "                                          batch_size=100,\n",
        "                                          shuffle=True,\n",
        "                                          num_workers=1),\n",
        "\n",
        "    'test'  : torch.utils.data.DataLoader(test_data,\n",
        "                                          batch_size=100,\n",
        "                                          shuffle=True,\n",
        "                                          num_workers=1),\n",
        "}\n",
        "loaders"
      ],
      "metadata": {
        "colab": {
          "base_uri": "https://localhost:8080/"
        },
        "id": "uma-9kHz7J0Y",
        "outputId": "d190d6f0-ca4e-4ff0-c742-7faaf2d3de1b"
      },
      "execution_count": 25,
      "outputs": [
        {
          "output_type": "execute_result",
          "data": {
            "text/plain": [
              "{'train': <torch.utils.data.dataloader.DataLoader at 0x7a1526677df0>,\n",
              " 'test': <torch.utils.data.dataloader.DataLoader at 0x7a1526677160>}"
            ]
          },
          "metadata": {},
          "execution_count": 25
        }
      ]
    },
    {
      "cell_type": "code",
      "source": [
        "import torch.nn as nn\n",
        "class CNN(nn.Module):\n",
        "    def __init__(self):\n",
        "        super(CNN, self).__init__()\n",
        "        self.conv1 = nn.Sequential(\n",
        "            nn.Conv2d(\n",
        "                in_channels=1,\n",
        "                out_channels=16,\n",
        "                kernel_size=5,\n",
        "                stride=1,\n",
        "                padding=2,\n",
        "            ),\n",
        "            nn.ReLU(),\n",
        "            nn.MaxPool2d(kernel_size=2),\n",
        "        )\n",
        "        self.conv2 = nn.Sequential(\n",
        "            nn.Conv2d(16, 32, 5, 1, 2),\n",
        "            nn.ReLU(),\n",
        "            nn.MaxPool2d(2),\n",
        "        )\n",
        "        # fully connected layer, output 10 classes\n",
        "        self.out = nn.Linear(32 * 7 * 7, 10)\n",
        "    def forward(self, x):\n",
        "        x = self.conv1(x)\n",
        "        x = self.conv2(x)\n",
        "        # flatten the output of conv2 to (batch_size, 32 * 7 * 7)\n",
        "        x = x.view(x.size(0), -1)\n",
        "        output = self.out(x)\n",
        "        return output, x    # return x for visualization"
      ],
      "metadata": {
        "id": "zG4MGCLp7J5c"
      },
      "execution_count": 26,
      "outputs": []
    },
    {
      "cell_type": "code",
      "source": [
        "cnn = CNN()\n",
        "print(cnn)"
      ],
      "metadata": {
        "colab": {
          "base_uri": "https://localhost:8080/"
        },
        "id": "5rp7-P_M7J8W",
        "outputId": "2a1b6b6f-aa2c-44d2-dab2-4569b07f789c"
      },
      "execution_count": 27,
      "outputs": [
        {
          "output_type": "stream",
          "name": "stdout",
          "text": [
            "CNN(\n",
            "  (conv1): Sequential(\n",
            "    (0): Conv2d(1, 16, kernel_size=(5, 5), stride=(1, 1), padding=(2, 2))\n",
            "    (1): ReLU()\n",
            "    (2): MaxPool2d(kernel_size=2, stride=2, padding=0, dilation=1, ceil_mode=False)\n",
            "  )\n",
            "  (conv2): Sequential(\n",
            "    (0): Conv2d(16, 32, kernel_size=(5, 5), stride=(1, 1), padding=(2, 2))\n",
            "    (1): ReLU()\n",
            "    (2): MaxPool2d(kernel_size=2, stride=2, padding=0, dilation=1, ceil_mode=False)\n",
            "  )\n",
            "  (out): Linear(in_features=1568, out_features=10, bias=True)\n",
            ")\n"
          ]
        }
      ]
    },
    {
      "cell_type": "code",
      "source": [
        "loss_func = nn.CrossEntropyLoss()\n",
        "loss_func"
      ],
      "metadata": {
        "colab": {
          "base_uri": "https://localhost:8080/"
        },
        "id": "dvKwEMUH7J-k",
        "outputId": "4fc4d71a-09e8-4267-9343-eb3df61311a9"
      },
      "execution_count": 28,
      "outputs": [
        {
          "output_type": "execute_result",
          "data": {
            "text/plain": [
              "CrossEntropyLoss()"
            ]
          },
          "metadata": {},
          "execution_count": 28
        }
      ]
    },
    {
      "cell_type": "code",
      "source": [
        "from torch import optim\n",
        "optimizer = optim.Adam(cnn.parameters(), lr = 0.01)\n",
        "optimizer"
      ],
      "metadata": {
        "colab": {
          "base_uri": "https://localhost:8080/"
        },
        "id": "I8-7cX2I7KAs",
        "outputId": "76c63f1e-6fb7-416a-990d-8cb8aeb591fa"
      },
      "execution_count": 29,
      "outputs": [
        {
          "output_type": "execute_result",
          "data": {
            "text/plain": [
              "Adam (\n",
              "Parameter Group 0\n",
              "    amsgrad: False\n",
              "    betas: (0.9, 0.999)\n",
              "    capturable: False\n",
              "    differentiable: False\n",
              "    eps: 1e-08\n",
              "    foreach: None\n",
              "    fused: None\n",
              "    lr: 0.01\n",
              "    maximize: False\n",
              "    weight_decay: 0\n",
              ")"
            ]
          },
          "metadata": {},
          "execution_count": 29
        }
      ]
    },
    {
      "cell_type": "code",
      "source": [
        "from torch.autograd import Variable\n",
        "num_epochs = 10\n",
        "def train(num_epochs, cnn, loaders):\n",
        "\n",
        "    cnn.train()\n",
        "\n",
        "    # Train the model\n",
        "    total_step = len(loaders['train'])\n",
        "\n",
        "    for epoch in range(num_epochs):\n",
        "        for i, (images, labels) in enumerate(loaders['train']):\n",
        "\n",
        "            # gives batch data, normalize x when iterate train_loader\n",
        "            b_x = Variable(images)   # batch x\n",
        "            b_y = Variable(labels)   # batch y\n",
        "            output = cnn(b_x)[0]\n",
        "            loss = loss_func(output, b_y)\n",
        "\n",
        "            # clear gradients for this training step\n",
        "            optimizer.zero_grad()\n",
        "\n",
        "            # backpropagation, compute gradients\n",
        "            loss.backward()\n",
        "            # apply gradients\n",
        "            optimizer.step()\n",
        "\n",
        "            #if (i+1) % 100 == 0:\n",
        "        print ('Epoch [{}/{}], Loss: {:.4f}'\n",
        "                       .format(epoch + 1, num_epochs, loss.item()))\n",
        "\n",
        "\n",
        "\n",
        "train(num_epochs, cnn, loaders)"
      ],
      "metadata": {
        "colab": {
          "base_uri": "https://localhost:8080/"
        },
        "id": "RODsqzs37KC6",
        "outputId": "51f630a1-7d30-4e4e-8766-7733c24b3069"
      },
      "execution_count": 30,
      "outputs": [
        {
          "output_type": "stream",
          "name": "stdout",
          "text": [
            "Epoch [1/10], Step [100/600], Loss: 0.4374\n",
            "Epoch [1/10], Step [200/600], Loss: 0.2259\n",
            "Epoch [1/10], Step [300/600], Loss: 0.4114\n",
            "Epoch [1/10], Step [400/600], Loss: 0.3419\n",
            "Epoch [1/10], Step [500/600], Loss: 0.2421\n",
            "Epoch [1/10], Step [600/600], Loss: 0.2623\n",
            "Epoch [2/10], Step [100/600], Loss: 0.0696\n",
            "Epoch [2/10], Step [200/600], Loss: 0.1072\n",
            "Epoch [2/10], Step [300/600], Loss: 0.1725\n",
            "Epoch [2/10], Step [400/600], Loss: 0.1643\n",
            "Epoch [2/10], Step [500/600], Loss: 0.2141\n",
            "Epoch [2/10], Step [600/600], Loss: 0.1295\n",
            "Epoch [3/10], Step [100/600], Loss: 0.2244\n",
            "Epoch [3/10], Step [200/600], Loss: 0.2106\n",
            "Epoch [3/10], Step [300/600], Loss: 0.1606\n",
            "Epoch [3/10], Step [400/600], Loss: 0.1002\n",
            "Epoch [3/10], Step [500/600], Loss: 0.1956\n",
            "Epoch [3/10], Step [600/600], Loss: 0.0745\n",
            "Epoch [4/10], Step [100/600], Loss: 0.1383\n",
            "Epoch [4/10], Step [200/600], Loss: 0.1027\n",
            "Epoch [4/10], Step [300/600], Loss: 0.1392\n",
            "Epoch [4/10], Step [400/600], Loss: 0.0819\n",
            "Epoch [4/10], Step [500/600], Loss: 0.0941\n",
            "Epoch [4/10], Step [600/600], Loss: 0.0610\n",
            "Epoch [5/10], Step [100/600], Loss: 0.1704\n",
            "Epoch [5/10], Step [200/600], Loss: 0.1984\n",
            "Epoch [5/10], Step [300/600], Loss: 0.0882\n",
            "Epoch [5/10], Step [400/600], Loss: 0.2178\n",
            "Epoch [5/10], Step [500/600], Loss: 0.2009\n",
            "Epoch [5/10], Step [600/600], Loss: 0.0360\n",
            "Epoch [6/10], Step [100/600], Loss: 0.1091\n",
            "Epoch [6/10], Step [200/600], Loss: 0.0352\n",
            "Epoch [6/10], Step [300/600], Loss: 0.1789\n",
            "Epoch [6/10], Step [400/600], Loss: 0.2519\n",
            "Epoch [6/10], Step [500/600], Loss: 0.1367\n",
            "Epoch [6/10], Step [600/600], Loss: 0.1682\n",
            "Epoch [7/10], Step [100/600], Loss: 0.0964\n",
            "Epoch [7/10], Step [200/600], Loss: 0.0902\n",
            "Epoch [7/10], Step [300/600], Loss: 0.1398\n",
            "Epoch [7/10], Step [400/600], Loss: 0.1960\n",
            "Epoch [7/10], Step [500/600], Loss: 0.1111\n",
            "Epoch [7/10], Step [600/600], Loss: 0.2136\n",
            "Epoch [8/10], Step [100/600], Loss: 0.1987\n",
            "Epoch [8/10], Step [200/600], Loss: 0.1157\n",
            "Epoch [8/10], Step [300/600], Loss: 0.3085\n",
            "Epoch [8/10], Step [400/600], Loss: 0.1321\n",
            "Epoch [8/10], Step [500/600], Loss: 0.0763\n",
            "Epoch [8/10], Step [600/600], Loss: 0.1403\n",
            "Epoch [9/10], Step [100/600], Loss: 0.1070\n",
            "Epoch [9/10], Step [200/600], Loss: 0.2950\n",
            "Epoch [9/10], Step [300/600], Loss: 0.1090\n",
            "Epoch [9/10], Step [400/600], Loss: 0.1826\n",
            "Epoch [9/10], Step [500/600], Loss: 0.1157\n",
            "Epoch [9/10], Step [600/600], Loss: 0.2593\n",
            "Epoch [10/10], Step [100/600], Loss: 0.0278\n",
            "Epoch [10/10], Step [200/600], Loss: 0.1317\n",
            "Epoch [10/10], Step [300/600], Loss: 0.2418\n",
            "Epoch [10/10], Step [400/600], Loss: 0.0879\n",
            "Epoch [10/10], Step [500/600], Loss: 0.0855\n",
            "Epoch [10/10], Step [600/600], Loss: 0.2325\n"
          ]
        }
      ]
    },
    {
      "cell_type": "code",
      "source": [
        "def test():\n",
        "    # Test the model\n",
        "    cnn.eval()\n",
        "    with torch.no_grad():\n",
        "        correct = 0\n",
        "        total = 0\n",
        "        for images, labels in loaders['test']:\n",
        "            test_output, last_layer = cnn(images)\n",
        "            pred_y = torch.max(test_output, 1)[1].data.squeeze()\n",
        "            accuracy = (pred_y == labels).sum().item() / float(labels.size(0))\n",
        "\n",
        "    print('Test Accuracy of the model on the 10000 test images: %.2f' % accuracy)\n",
        "\n",
        "\n",
        "test()"
      ],
      "metadata": {
        "colab": {
          "base_uri": "https://localhost:8080/"
        },
        "id": "wLmiDK7c7KE-",
        "outputId": "2343ed7a-9e52-4593-9a94-0473c9d11683"
      },
      "execution_count": 31,
      "outputs": [
        {
          "output_type": "stream",
          "name": "stdout",
          "text": [
            "Test Accuracy of the model on the 10000 test images: 0.91\n"
          ]
        }
      ]
    },
    {
      "cell_type": "code",
      "source": [
        "sample = next(iter(loaders['test']))\n",
        "imgs, lbls = sample"
      ],
      "metadata": {
        "id": "fAv1-zu07KG2"
      },
      "execution_count": 32,
      "outputs": []
    },
    {
      "cell_type": "code",
      "source": [
        "actual_number = lbls[:10].numpy()\n",
        "actual_number"
      ],
      "metadata": {
        "colab": {
          "base_uri": "https://localhost:8080/"
        },
        "id": "PHA4yNii7KJC",
        "outputId": "9036a4a4-bdd2-4816-b3ef-7c4146c53058"
      },
      "execution_count": 33,
      "outputs": [
        {
          "output_type": "execute_result",
          "data": {
            "text/plain": [
              "array([7, 3, 2, 8, 9, 6, 8, 4, 1, 4])"
            ]
          },
          "metadata": {},
          "execution_count": 33
        }
      ]
    },
    {
      "cell_type": "code",
      "source": [
        "test_output, last_layer = cnn(imgs[:10])\n",
        "pred_y = torch.max(test_output, 1)[1].data.numpy().squeeze()\n",
        "print(f'Prediction number: {pred_y}')\n",
        "print(f'Actual number: {actual_number}')"
      ],
      "metadata": {
        "colab": {
          "base_uri": "https://localhost:8080/"
        },
        "id": "RzhCknWE7KLE",
        "outputId": "d4bc2758-132a-4bba-ef1e-829b029a714e"
      },
      "execution_count": 34,
      "outputs": [
        {
          "output_type": "stream",
          "name": "stdout",
          "text": [
            "Prediction number: [7 3 2 8 9 6 8 4 1 6]\n",
            "Actual number: [7 3 2 8 9 6 8 4 1 4]\n"
          ]
        }
      ]
    },
    {
      "cell_type": "code",
      "source": [],
      "metadata": {
        "id": "hNrb0Moy7KNK"
      },
      "execution_count": null,
      "outputs": []
    },
    {
      "cell_type": "code",
      "source": [],
      "metadata": {
        "id": "b9aMC00q7KPH"
      },
      "execution_count": null,
      "outputs": []
    },
    {
      "cell_type": "code",
      "source": [],
      "metadata": {
        "id": "jEbmfIUW7KRT"
      },
      "execution_count": null,
      "outputs": []
    },
    {
      "cell_type": "code",
      "source": [],
      "metadata": {
        "id": "CWQBArSv7KTc"
      },
      "execution_count": null,
      "outputs": []
    },
    {
      "cell_type": "code",
      "source": [],
      "metadata": {
        "id": "UxFUXruJ7KVg"
      },
      "execution_count": null,
      "outputs": []
    },
    {
      "cell_type": "code",
      "source": [],
      "metadata": {
        "id": "wYls9UqS7KXp"
      },
      "execution_count": null,
      "outputs": []
    },
    {
      "cell_type": "code",
      "source": [],
      "metadata": {
        "id": "j9MXeAvC7KZp"
      },
      "execution_count": null,
      "outputs": []
    },
    {
      "cell_type": "code",
      "source": [],
      "metadata": {
        "id": "-qK6MB8I7KcQ"
      },
      "execution_count": null,
      "outputs": []
    }
  ]
}